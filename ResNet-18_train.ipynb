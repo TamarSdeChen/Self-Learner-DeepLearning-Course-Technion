{
  "cells": [
    {
      "cell_type": "markdown",
      "metadata": {
        "id": "view-in-github",
        "colab_type": "text"
      },
      "source": [
        "<a href=\"https://colab.research.google.com/github/TamarSdeChen/Self-Learner-DeepLearning-Course-Technion/blob/main/ResNet-18_train.ipynb\" target=\"_parent\"><img src=\"https://colab.research.google.com/assets/colab-badge.svg\" alt=\"Open In Colab\"/></a>"
      ]
    },
    {
      "cell_type": "code",
      "execution_count": 42,
      "metadata": {
        "colab": {
          "base_uri": "https://localhost:8080/"
        },
        "id": "5PwmA9f_7Z3h",
        "outputId": "0df4c856-ad2c-4b10-e700-5f32e8b8d93c"
      },
      "outputs": [
        {
          "output_type": "stream",
          "name": "stdout",
          "text": [
            "Files already downloaded and verified\n",
            "Files already downloaded and verified\n"
          ]
        }
      ],
      "source": [
        "import time\n",
        "import numpy as np\n",
        "import torch\n",
        "import torch.nn as nn\n",
        "\n",
        "import matplotlib.pyplot as plt\n",
        "\n",
        "from torchvision.datasets import STL10\n",
        "from torchvision import transforms, utils, models\n",
        "from torchvision.transforms import ToTensor\n",
        "\n",
        "\n",
        "transform_train = transforms.Compose([\n",
        "    transforms.RandomResizedCrop(96),\n",
        "    transforms.RandomHorizontalFlip(p=0.5),\n",
        "    transforms.RandomGrayscale(p=0.2),\n",
        "    transforms.ToTensor(), # uint8 values in [0, 255] -> float tensor with vlaues [0, 1]\n",
        "])\n",
        "\n",
        "TRAIN_DATASET = STL10(root=\"data\", split=\"train\", download=True, transform=transform_train)\n",
        "TEST_DATASET = STL10(root=\"data\", split=\"test\", download=True, transform=ToTensor())\n",
        "\n",
        "# SPLIT THE TEST TO VALIDATION 0.2 AND TEST 0.8\n",
        "\n",
        "\n",
        "train_loader = torch.utils.data.DataLoader(TRAIN_DATASET, batch_size=128, shuffle=True, num_workers=2)\n",
        "#val_loader = torch.utils.data.DataLoader(TEST_DATASET, batch_size=128,sampler=np.arange(2000), num_workers=2)\n",
        "tset_loader = torch.utils.data.DataLoader(TEST_DATASET, batch_size=128,  shuffle=False, num_workers=2)"
      ]
    },
    {
      "cell_type": "code",
      "execution_count": 43,
      "metadata": {
        "colab": {
          "base_uri": "https://localhost:8080/"
        },
        "id": "g6iAmmempwWP",
        "outputId": "f184fe74-dc15-4024-a425-e5d0e5b65807"
      },
      "outputs": [
        {
          "output_type": "stream",
          "name": "stdout",
          "text": [
            "8000\n"
          ]
        }
      ],
      "source": [
        "print(len(tset_loader.sampler))"
      ]
    },
    {
      "cell_type": "code",
      "execution_count": 44,
      "metadata": {
        "colab": {
          "base_uri": "https://localhost:8080/"
        },
        "id": "8fvAJPSYLAVJ",
        "outputId": "5717e393-43dc-4cb9-a748-a20cfb1fbbdb"
      },
      "outputs": [
        {
          "output_type": "stream",
          "name": "stdout",
          "text": [
            "Drive already mounted at /content/drive; to attempt to forcibly remount, call drive.mount(\"/content/drive\", force_remount=True).\n"
          ]
        }
      ],
      "source": [
        "# conect to google drive\n",
        "from google.colab import drive\n",
        "drive.mount('/content/drive')\n",
        "\n",
        "# device - cpu or gpu?\n",
        "device = torch.device(\"cuda:0\" if torch.cuda.is_available() else \"cpu\")\n",
        "\n"
      ]
    },
    {
      "cell_type": "code",
      "execution_count": 45,
      "metadata": {
        "id": "IRe8OUx1LMZT"
      },
      "outputs": [],
      "source": [
        "# function to calcualte accuracy of the model\n",
        "import numpy as np\n",
        "def calculate_accuracy(model, dataloader, device):\n",
        "    model.eval() # put in evaluation mode,  turn of DropOut, BatchNorm uses learned statistics\n",
        "    total_correct = 0\n",
        "    total_images = 0\n",
        "    with torch.no_grad():\n",
        "        for data in dataloader:\n",
        "            images, labels = data\n",
        "            images = images.to(device)\n",
        "            labels = labels.to(device)\n",
        "            outputs = model(images)\n",
        "            _, predicted = torch.max(outputs.data, 1)\n",
        "            total_images += labels.size(0)\n",
        "            total_correct += (predicted == labels).sum().item()\n",
        "\n",
        "    model_accuracy = total_correct / total_images * 100\n",
        "    return model_accuracy"
      ]
    },
    {
      "cell_type": "code",
      "execution_count": 46,
      "metadata": {
        "id": "zlbORBHWEJ3_"
      },
      "outputs": [],
      "source": [
        "model =  models.resnet18().to(device)"
      ]
    },
    {
      "cell_type": "code",
      "execution_count": 47,
      "metadata": {
        "id": "UYD0H889J_rL"
      },
      "outputs": [],
      "source": [
        "from torch import nn\n",
        "class Dc_model(nn.Module):\n",
        "    def __init__(self):\n",
        "        super(Dc_model, self).__init__()\n",
        "        self.fc_1 = nn.Linear(512, 128)\n",
        "        self.fc_2 = nn.Linear(128,10)\n",
        "        self.ReLU = nn.ReLU()\n",
        "        self.init_weights()\n",
        "\n",
        "    def init_weights(self):\n",
        "      for m in self.modules():\n",
        "        if isinstance(m, nn.Linear):\n",
        "          torch.nn.init.xavier_normal_(m.weight, gain=1.0)\n",
        "          if m.bias is not None:\n",
        "            torch.nn.init.constant_(m.bias, 0)\n",
        "\n",
        "    def forward(self,x):\n",
        "        x = self.ReLU(self.fc_1(x))\n",
        "        x = self.fc_2(x)\n",
        "        return x"
      ]
    },
    {
      "cell_type": "code",
      "execution_count": 48,
      "metadata": {
        "id": "yj-vZ_f4N1XT"
      },
      "outputs": [],
      "source": [
        "model_ = Dc_model().to(device)"
      ]
    },
    {
      "cell_type": "code",
      "execution_count": 49,
      "metadata": {
        "id": "Yw3diuYLN8J7"
      },
      "outputs": [],
      "source": [
        "model.fc = model_"
      ]
    },
    {
      "cell_type": "code",
      "execution_count": 50,
      "metadata": {
        "id": "HkHELT8SOKeT"
      },
      "outputs": [],
      "source": [
        "for param in model.parameters():\n",
        "        param.requires_grad = True\n",
        "for param in model.fc.parameters():\n",
        "        param.requires_grad = True"
      ]
    },
    {
      "cell_type": "code",
      "execution_count": 51,
      "metadata": {
        "id": "gMPML2ghOQ__"
      },
      "outputs": [],
      "source": [
        "# hyper parameter\n",
        "batch_size = 256\n",
        "learning_rate = 1e-3\n",
        "epochs = 200\n",
        "\n",
        "# loss criterion\n",
        "criterion = nn.CrossEntropyLoss()\n",
        "\n",
        "optimizer = torch.optim.Adam(model.parameters(), lr=learning_rate)\n",
        "scheduler = torch.optim.lr_scheduler.MultiStepLR(optimizer, milestones=[120, 130], gamma=0.1)\n"
      ]
    },
    {
      "cell_type": "code",
      "execution_count": 52,
      "metadata": {
        "colab": {
          "base_uri": "https://localhost:8080/"
        },
        "id": "7H-yXlNQOclv",
        "outputId": "c244207f-a704-4acf-b48f-87f269a14b2f"
      },
      "outputs": [
        {
          "output_type": "stream",
          "name": "stdout",
          "text": [
            "Epoch: 1 | Loss: 2.0166 \n",
            "Epoch: 2 | Loss: 1.7791 \n",
            "Epoch: 3 | Loss: 1.7276 \n",
            "Epoch: 4 | Loss: 1.6883 \n",
            "Epoch: 5 | Loss: 1.6402 \n",
            "Epoch: 6 | Loss: 1.6333 \n",
            "Epoch: 7 | Loss: 1.5433 \n",
            "Epoch: 8 | Loss: 1.5091 \n",
            "Epoch: 9 | Loss: 1.4776 \n",
            "Epoch: 10 | Loss: 1.4968 \n",
            "Epoch: 11 | Loss: 1.4111 \n",
            "Epoch: 12 | Loss: 1.3809 \n",
            "Epoch: 13 | Loss: 1.3750 \n",
            "Epoch: 14 | Loss: 1.4054 \n",
            "Epoch: 15 | Loss: 1.3132 \n",
            "Epoch: 16 | Loss: 1.3405 \n",
            "Epoch: 17 | Loss: 1.4153 \n",
            "Epoch: 18 | Loss: 1.3622 \n",
            "Epoch: 19 | Loss: 1.2817 \n",
            "Epoch: 20 | Loss: 1.2866 \n",
            "Epoch: 21 | Loss: 1.2445 \n",
            "Epoch: 22 | Loss: 1.2490 \n",
            "Epoch: 23 | Loss: 1.1715 \n",
            "Epoch: 24 | Loss: 1.1675 \n",
            "Epoch: 25 | Loss: 1.1437 \n",
            "Epoch: 26 | Loss: 1.1315 \n",
            "Epoch: 27 | Loss: 1.1065 \n",
            "Epoch: 28 | Loss: 1.1352 \n",
            "Epoch: 29 | Loss: 1.1076 \n",
            "Epoch: 30 | Loss: 1.1013 \n",
            "Epoch: 31 | Loss: 1.1116 \n",
            "Epoch: 32 | Loss: 1.0622 \n",
            "Epoch: 33 | Loss: 1.0867 \n",
            "Epoch: 34 | Loss: 1.1078 \n",
            "Epoch: 35 | Loss: 1.0787 \n",
            "Epoch: 36 | Loss: 1.0492 \n",
            "Epoch: 37 | Loss: 1.0639 \n",
            "Epoch: 38 | Loss: 1.0073 \n",
            "Epoch: 39 | Loss: 1.0466 \n",
            "Epoch: 40 | Loss: 1.0282 \n",
            "Epoch: 41 | Loss: 0.9983 \n",
            "Epoch: 42 | Loss: 0.9805 \n",
            "Epoch: 43 | Loss: 0.9633 \n",
            "Epoch: 44 | Loss: 1.0221 \n",
            "Epoch: 45 | Loss: 0.9952 \n",
            "Epoch: 46 | Loss: 0.9738 \n",
            "Epoch: 47 | Loss: 0.9525 \n",
            "Epoch: 48 | Loss: 0.9664 \n",
            "Epoch: 49 | Loss: 1.0224 \n",
            "Epoch: 50 | Loss: 0.9290 \n",
            "==> Saving model ...\n",
            "Epoch: 51 | Loss: 0.9418 \n",
            "Epoch: 52 | Loss: 0.9299 \n",
            "Epoch: 53 | Loss: 0.9552 \n",
            "Epoch: 54 | Loss: 0.9048 \n",
            "Epoch: 55 | Loss: 0.8868 \n",
            "Epoch: 56 | Loss: 0.8995 \n",
            "Epoch: 57 | Loss: 0.8290 \n",
            "Epoch: 58 | Loss: 0.8275 \n",
            "Epoch: 59 | Loss: 0.8271 \n",
            "Epoch: 60 | Loss: 0.7968 \n",
            "Epoch: 61 | Loss: 0.8306 \n",
            "Epoch: 62 | Loss: 0.8500 \n",
            "Epoch: 63 | Loss: 0.8211 \n",
            "Epoch: 64 | Loss: 0.8329 \n",
            "Epoch: 65 | Loss: 0.8261 \n",
            "Epoch: 66 | Loss: 0.8807 \n",
            "Epoch: 67 | Loss: 0.8516 \n",
            "Epoch: 68 | Loss: 0.7933 \n",
            "Epoch: 69 | Loss: 0.8260 \n",
            "Epoch: 70 | Loss: 0.7824 \n",
            "Epoch: 71 | Loss: 0.7550 \n",
            "Epoch: 72 | Loss: 0.7946 \n",
            "Epoch: 73 | Loss: 0.7956 \n",
            "Epoch: 74 | Loss: 0.7819 \n",
            "Epoch: 75 | Loss: 0.7556 \n",
            "Epoch: 76 | Loss: 0.7590 \n",
            "Epoch: 77 | Loss: 0.8216 \n",
            "Epoch: 78 | Loss: 0.7647 \n",
            "Epoch: 79 | Loss: 0.7412 \n",
            "Epoch: 80 | Loss: 0.7378 \n",
            "Epoch: 81 | Loss: 0.7305 \n",
            "Epoch: 82 | Loss: 0.8044 \n",
            "Epoch: 83 | Loss: 0.7916 \n",
            "Epoch: 84 | Loss: 0.7214 \n",
            "Epoch: 85 | Loss: 0.6921 \n",
            "Epoch: 86 | Loss: 0.7438 \n",
            "Epoch: 87 | Loss: 0.6804 \n",
            "Epoch: 88 | Loss: 0.6535 \n",
            "Epoch: 89 | Loss: 0.6574 \n",
            "Epoch: 90 | Loss: 0.6201 \n",
            "Epoch: 91 | Loss: 0.6744 \n",
            "Epoch: 92 | Loss: 0.6470 \n",
            "Epoch: 93 | Loss: 0.6094 \n",
            "Epoch: 94 | Loss: 0.7183 \n",
            "Epoch: 95 | Loss: 0.7549 \n",
            "Epoch: 96 | Loss: 0.7151 \n",
            "Epoch: 97 | Loss: 0.6754 \n",
            "Epoch: 98 | Loss: 0.7417 \n",
            "Epoch: 99 | Loss: 0.6537 \n",
            "Epoch: 100 | Loss: 0.6976 \n",
            "==> Saving model ...\n",
            "Epoch: 101 | Loss: 0.6782 \n",
            "Epoch: 102 | Loss: 0.6556 \n",
            "Epoch: 103 | Loss: 0.6672 \n",
            "Epoch: 104 | Loss: 0.6187 \n",
            "Epoch: 105 | Loss: 0.6166 \n",
            "Epoch: 106 | Loss: 0.6070 \n",
            "Epoch: 107 | Loss: 0.5819 \n",
            "Epoch: 108 | Loss: 0.6204 \n",
            "Epoch: 109 | Loss: 0.6214 \n",
            "Epoch: 110 | Loss: 0.6177 \n",
            "Epoch: 111 | Loss: 0.5983 \n",
            "Epoch: 112 | Loss: 0.5797 \n",
            "Epoch: 113 | Loss: 0.6046 \n",
            "Epoch: 114 | Loss: 0.5914 \n",
            "Epoch: 115 | Loss: 0.6248 \n",
            "Epoch: 116 | Loss: 0.5668 \n",
            "Epoch: 117 | Loss: 0.5638 \n",
            "Epoch: 118 | Loss: 0.5678 \n",
            "Epoch: 119 | Loss: 0.5927 \n",
            "Epoch: 120 | Loss: 0.5580 \n",
            "Epoch: 121 | Loss: 0.5002 \n",
            "Epoch: 122 | Loss: 0.4751 \n",
            "Epoch: 123 | Loss: 0.4562 \n",
            "Epoch: 124 | Loss: 0.4327 \n",
            "Epoch: 125 | Loss: 0.4280 \n",
            "Epoch: 126 | Loss: 0.4804 \n",
            "Epoch: 127 | Loss: 0.4288 \n",
            "Epoch: 128 | Loss: 0.4330 \n",
            "Epoch: 129 | Loss: 0.4213 \n",
            "Epoch: 130 | Loss: 0.4335 \n",
            "Epoch: 131 | Loss: 0.3904 \n",
            "Epoch: 132 | Loss: 0.4125 \n",
            "Epoch: 133 | Loss: 0.4122 \n",
            "Epoch: 134 | Loss: 0.4159 \n",
            "Epoch: 135 | Loss: 0.4063 \n",
            "Epoch: 136 | Loss: 0.4039 \n",
            "Epoch: 137 | Loss: 0.3814 \n",
            "Epoch: 138 | Loss: 0.3984 \n",
            "Epoch: 139 | Loss: 0.4047 \n",
            "Epoch: 140 | Loss: 0.4144 \n",
            "Epoch: 141 | Loss: 0.4093 \n",
            "Epoch: 142 | Loss: 0.4076 \n",
            "Epoch: 143 | Loss: 0.3708 \n",
            "Epoch: 144 | Loss: 0.3945 \n",
            "Epoch: 145 | Loss: 0.3938 \n",
            "Epoch: 146 | Loss: 0.3940 \n",
            "Epoch: 147 | Loss: 0.4314 \n",
            "Epoch: 148 | Loss: 0.3968 \n",
            "Epoch: 149 | Loss: 0.4145 \n",
            "Epoch: 150 | Loss: 0.3979 \n",
            "==> Saving model ...\n",
            "Epoch: 151 | Loss: 0.4039 \n",
            "Epoch: 152 | Loss: 0.4173 \n",
            "Epoch: 153 | Loss: 0.3996 \n",
            "Epoch: 154 | Loss: 0.4356 \n",
            "Epoch: 155 | Loss: 0.3973 \n",
            "Epoch: 156 | Loss: 0.3980 \n",
            "Epoch: 157 | Loss: 0.4111 \n",
            "Epoch: 158 | Loss: 0.3873 \n",
            "Epoch: 159 | Loss: 0.4154 \n",
            "Epoch: 160 | Loss: 0.3841 \n",
            "Epoch: 161 | Loss: 0.3955 \n",
            "Epoch: 162 | Loss: 0.3839 \n",
            "Epoch: 163 | Loss: 0.4194 \n",
            "Epoch: 164 | Loss: 0.3947 \n",
            "Epoch: 165 | Loss: 0.3918 \n",
            "Epoch: 166 | Loss: 0.3861 \n",
            "Epoch: 167 | Loss: 0.4025 \n",
            "Epoch: 168 | Loss: 0.3973 \n",
            "Epoch: 169 | Loss: 0.3709 \n",
            "Epoch: 170 | Loss: 0.4308 \n",
            "Epoch: 171 | Loss: 0.3930 \n",
            "Epoch: 172 | Loss: 0.3901 \n",
            "Epoch: 173 | Loss: 0.3755 \n",
            "Epoch: 174 | Loss: 0.3683 \n",
            "Epoch: 175 | Loss: 0.3819 \n",
            "Epoch: 176 | Loss: 0.4003 \n",
            "Epoch: 177 | Loss: 0.3789 \n",
            "Epoch: 178 | Loss: 0.4099 \n",
            "Epoch: 179 | Loss: 0.3827 \n",
            "Epoch: 180 | Loss: 0.3764 \n",
            "Epoch: 181 | Loss: 0.4082 \n",
            "Epoch: 182 | Loss: 0.3786 \n",
            "Epoch: 183 | Loss: 0.3962 \n",
            "Epoch: 184 | Loss: 0.3935 \n",
            "Epoch: 185 | Loss: 0.4103 \n",
            "Epoch: 186 | Loss: 0.3726 \n",
            "Epoch: 187 | Loss: 0.4094 \n",
            "Epoch: 188 | Loss: 0.3857 \n",
            "Epoch: 189 | Loss: 0.3925 \n",
            "Epoch: 190 | Loss: 0.4052 \n",
            "Epoch: 191 | Loss: 0.3855 \n",
            "Epoch: 192 | Loss: 0.3812 \n",
            "Epoch: 193 | Loss: 0.3831 \n",
            "Epoch: 194 | Loss: 0.3714 \n",
            "Epoch: 195 | Loss: 0.3828 \n",
            "Epoch: 196 | Loss: 0.3814 \n",
            "Epoch: 197 | Loss: 0.3991 \n",
            "Epoch: 198 | Loss: 0.3677 \n",
            "Epoch: 199 | Loss: 0.4039 \n",
            "Epoch: 200 | Loss: 0.3848 \n",
            "==> Saving model ...\n",
            "==> Finished Training ...\n"
          ]
        }
      ],
      "source": [
        "# training loop\n",
        "epoch_losses = []\n",
        "acc_train_list = []\n",
        "avg_loss_list = []\n",
        "for epoch in range(1, epochs + 1):\n",
        "    model.train()  # put in training mode, turn on DropOut, BatchNorm uses batch's statistics\n",
        "    running_loss = 0.0\n",
        "    epoch_time = time.time()\n",
        "    for i, data in enumerate(train_loader, 0):\n",
        "        # get the inputs\n",
        "        inputs, labels = data\n",
        "        # send them to device\n",
        "        inputs = inputs.to(device)\n",
        "        labels = labels.to(device)\n",
        "\n",
        "        # forward + backward + optimize\n",
        "        outputs = model(inputs)  # forward pass\n",
        "        loss = criterion(outputs, labels.to(torch.int64))  # calculate the loss\n",
        "\n",
        "        # always the same 3 steps\n",
        "        optimizer.zero_grad()  # zero the parameter gradients\n",
        "        loss.backward()  # backpropagation\n",
        "        optimizer.step()  # update parameters\n",
        "\n",
        "        # print statistics\n",
        "        running_loss += loss.data.item()\n",
        "\n",
        "    scheduler.step()\n",
        "    # Normalizing the loss by the total number of train batches\n",
        "    avg_loss = running_loss / len(train_loader)\n",
        "    avg_loss_list.append(avg_loss)\n",
        "\n",
        "    log = \"Epoch: {} | Loss: {:.4f} \".format(epoch, avg_loss)\n",
        "    print(log)\n",
        "    if epoch % 50 == 0:\n",
        "      #val_accuracy = calculate_accuracy(model, val_loader, device)\n",
        "      #print('validation accuracy')\n",
        "      #print_acc = \"validation accuracy: {} \".format(val_accuracy)\n",
        "      #print(print_acc)\n",
        "\n",
        "      print('==> Saving model ...')\n",
        "      state = {\n",
        "      'net': model.state_dict(),\n",
        "      }\n",
        "\n",
        "      torch.save(state, '/content/drive/MyDrive/DL_project/resnet18_epoch_{}.pth')\n",
        "print('==> Finished Training ...')"
      ]
    },
    {
      "cell_type": "code",
      "execution_count": 53,
      "metadata": {
        "colab": {
          "base_uri": "https://localhost:8080/"
        },
        "id": "MonLRinGUwU4",
        "outputId": "50835fde-c47c-423d-e4e6-31f79cbe7362"
      },
      "outputs": [
        {
          "output_type": "stream",
          "name": "stdout",
          "text": [
            "final test accuracy: 76.9875\n"
          ]
        }
      ],
      "source": [
        "test_accuracy = calculate_accuracy(model, tset_loader, device)\n",
        "print(f\"final test accuracy: {test_accuracy}\")"
      ]
    },
    {
      "cell_type": "code",
      "source": [
        "\n",
        "from matplotlib import pyplot as plt\n",
        "import numpy as np\n",
        "from google.colab import files\n",
        "\n",
        "epoch_num = np.arange(0, 200, 1, dtype=int)\n",
        "\n",
        "plt.plot(epoch_num, torch.as_tensor(avg_loss_list).cpu(), label='Training loss')\n",
        "plt.ylabel('Loss function value')\n",
        "plt.xlabel('Epoch')\n",
        "plt.title('Training loss vs. Epoch number')\n",
        "plt.legend()\n",
        "plt.savefig(\"Training loss.png\")\n",
        "\n",
        "files.download(\"Training loss.png\")\n",
        "plt.show"
      ],
      "metadata": {
        "colab": {
          "base_uri": "https://localhost:8080/",
          "height": 698
        },
        "id": "Cx-sebiDxQdA",
        "outputId": "52be90d7-8dba-4708-db9f-d41fc4146b79"
      },
      "execution_count": 54,
      "outputs": [
        {
          "output_type": "stream",
          "name": "stdout",
          "text": [
            "[  0   1   2   3   4   5   6   7   8   9  10  11  12  13  14  15  16  17\n",
            "  18  19  20  21  22  23  24  25  26  27  28  29  30  31  32  33  34  35\n",
            "  36  37  38  39  40  41  42  43  44  45  46  47  48  49  50  51  52  53\n",
            "  54  55  56  57  58  59  60  61  62  63  64  65  66  67  68  69  70  71\n",
            "  72  73  74  75  76  77  78  79  80  81  82  83  84  85  86  87  88  89\n",
            "  90  91  92  93  94  95  96  97  98  99 100 101 102 103 104 105 106 107\n",
            " 108 109 110 111 112 113 114 115 116 117 118 119 120 121 122 123 124 125\n",
            " 126 127 128 129 130 131 132 133 134 135 136 137 138 139 140 141 142 143\n",
            " 144 145 146 147 148 149 150 151 152 153 154 155 156 157 158 159 160 161\n",
            " 162 163 164 165 166 167 168 169 170 171 172 173 174 175 176 177 178 179\n",
            " 180 181 182 183 184 185 186 187 188 189 190 191 192 193 194 195 196 197\n",
            " 198 199]\n"
          ]
        },
        {
          "output_type": "display_data",
          "data": {
            "text/plain": [
              "<IPython.core.display.Javascript object>"
            ],
            "application/javascript": [
              "\n",
              "    async function download(id, filename, size) {\n",
              "      if (!google.colab.kernel.accessAllowed) {\n",
              "        return;\n",
              "      }\n",
              "      const div = document.createElement('div');\n",
              "      const label = document.createElement('label');\n",
              "      label.textContent = `Downloading \"${filename}\": `;\n",
              "      div.appendChild(label);\n",
              "      const progress = document.createElement('progress');\n",
              "      progress.max = size;\n",
              "      div.appendChild(progress);\n",
              "      document.body.appendChild(div);\n",
              "\n",
              "      const buffers = [];\n",
              "      let downloaded = 0;\n",
              "\n",
              "      const channel = await google.colab.kernel.comms.open(id);\n",
              "      // Send a message to notify the kernel that we're ready.\n",
              "      channel.send({})\n",
              "\n",
              "      for await (const message of channel.messages) {\n",
              "        // Send a message to notify the kernel that we're ready.\n",
              "        channel.send({})\n",
              "        if (message.buffers) {\n",
              "          for (const buffer of message.buffers) {\n",
              "            buffers.push(buffer);\n",
              "            downloaded += buffer.byteLength;\n",
              "            progress.value = downloaded;\n",
              "          }\n",
              "        }\n",
              "      }\n",
              "      const blob = new Blob(buffers, {type: 'application/binary'});\n",
              "      const a = document.createElement('a');\n",
              "      a.href = window.URL.createObjectURL(blob);\n",
              "      a.download = filename;\n",
              "      div.appendChild(a);\n",
              "      a.click();\n",
              "      div.remove();\n",
              "    }\n",
              "  "
            ]
          },
          "metadata": {}
        },
        {
          "output_type": "display_data",
          "data": {
            "text/plain": [
              "<IPython.core.display.Javascript object>"
            ],
            "application/javascript": [
              "download(\"download_9fbf168f-eac3-41db-a089-096d049d2022\", \"Training loss.png\", 34191)"
            ]
          },
          "metadata": {}
        },
        {
          "output_type": "execute_result",
          "data": {
            "text/plain": [
              "<function matplotlib.pyplot.show(close=None, block=None)>"
            ]
          },
          "metadata": {},
          "execution_count": 54
        },
        {
          "output_type": "display_data",
          "data": {
            "text/plain": [
              "<Figure size 640x480 with 1 Axes>"
            ],
            "image/png": "[encoded data removed]"
          },
          "metadata": {}
        }
      ]
    },
    {
      "cell_type": "code",
      "source": [
        "print('==> Saving model ...')\n",
        "state = {\n",
        "'net': model.state_dict(),\n",
        "}\n",
        "\n",
        "torch.save(state, '/content/drive/MyDrive/DL_project/best_resnet18_epoch_200.pth')\n"
      ],
      "metadata": {
        "colab": {
          "base_uri": "https://localhost:8080/"
        },
        "id": "yRWg9I352B8n",
        "outputId": "acb3f9e7-8344-410a-cdd3-e85b3efd78a1"
      },
      "execution_count": 55,
      "outputs": [
        {
          "output_type": "stream",
          "name": "stdout",
          "text": [
            "==> Saving model ...\n"
          ]
        }
      ]
    }
  ],
  "metadata": {
    "accelerator": "GPU",
    "colab": {
      "provenance": [],
      "include_colab_link": true
    },
    "kernelspec": {
      "display_name": "Python 3",
      "name": "python3"
    },
    "language_info": {
      "name": "python"
    }
  },
  "nbformat": 4,
  "nbformat_minor": 0
}