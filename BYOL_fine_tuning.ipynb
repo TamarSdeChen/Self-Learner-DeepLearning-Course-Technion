{
  "nbformat": 4,
  "nbformat_minor": 0,
  "metadata": {
    "colab": {
      "provenance": [],
      "machine_shape": "hm",
      "gpuType": "A100",
      "include_colab_link": true
    },
    "kernelspec": {
      "name": "python3",
      "display_name": "Python 3"
    },
    "language_info": {
      "name": "python"
    },
    "accelerator": "GPU"
  },
  "cells": [
    {
      "cell_type": "markdown",
      "metadata": {
        "id": "view-in-github",
        "colab_type": "text"
      },
      "source": [
        "<a href=\"https://colab.research.google.com/github/TamarSdeChen/Self-Learner-DeepLearning-Course-Technion/blob/main/BYOL_fine_tuning.ipynb\" target=\"_parent\"><img src=\"https://colab.research.google.com/assets/colab-badge.svg\" alt=\"Open In Colab\"/></a>"
      ]
    },
    {
      "cell_type": "code",
      "source": [
        "pip install lightly"
      ],
      "metadata": {
        "colab": {
          "base_uri": "https://localhost:8080/",
          "height": 1000
        },
        "id": "nhYV9Q9zxBFb",
        "outputId": "205b7615-19e4-4637-f38a-57013d846d7f"
      },
      "execution_count": 1,
      "outputs": [
        {
          "output_type": "stream",
          "name": "stdout",
          "text": [
            "Collecting lightly\n",
            "  Downloading lightly-1.4.11-py3-none-any.whl (632 kB)\n",
            "\u001b[?25l     \u001b[90m━━━━━━━━━━━━━━━━━━━━━━━━━━━━━━━━━━━━━━━━\u001b[0m \u001b[32m0.0/633.0 kB\u001b[0m \u001b[31m?\u001b[0m eta \u001b[36m-:--:--\u001b[0m\r\u001b[2K     \u001b[90m━━━━━━━━━━━━━━━━━━━━━━━━━━━━━━━━━━━━━━\u001b[0m \u001b[32m633.0/633.0 kB\u001b[0m \u001b[31m36.4 MB/s\u001b[0m eta \u001b[36m0:00:00\u001b[0m\n",
            "\u001b[?25hRequirement already satisfied: certifi>=14.05.14 in /usr/local/lib/python3.10/dist-packages (from lightly) (2023.5.7)\n",
            "Collecting hydra-core>=1.0.0 (from lightly)\n",
            "  Downloading hydra_core-1.3.2-py3-none-any.whl (154 kB)\n",
            "\u001b[2K     \u001b[90m━━━━━━━━━━━━━━━━━━━━━━━━━━━━━━━━━━━━━━\u001b[0m \u001b[32m154.5/154.5 kB\u001b[0m \u001b[31m19.3 MB/s\u001b[0m eta \u001b[36m0:00:00\u001b[0m\n",
            "\u001b[?25hCollecting lightly-utils~=0.0.0 (from lightly)\n",
            "  Downloading lightly_utils-0.0.2-py3-none-any.whl (6.4 kB)\n",
            "Requirement already satisfied: numpy>=1.18.1 in /usr/local/lib/python3.10/dist-packages (from lightly) (1.22.4)\n",
            "Requirement already satisfied: python-dateutil>=2.5.3 in /usr/local/lib/python3.10/dist-packages (from lightly) (2.8.2)\n",
            "Requirement already satisfied: requests>=2.23.0 in /usr/local/lib/python3.10/dist-packages (from lightly) (2.27.1)\n",
            "Requirement already satisfied: six>=1.10 in /usr/local/lib/python3.10/dist-packages (from lightly) (1.16.0)\n",
            "Requirement already satisfied: tqdm>=4.44 in /usr/local/lib/python3.10/dist-packages (from lightly) (4.65.0)\n",
            "Requirement already satisfied: urllib3>=1.15.1 in /usr/local/lib/python3.10/dist-packages (from lightly) (1.26.16)\n",
            "Requirement already satisfied: pydantic<2,>=1.10.5 in /usr/local/lib/python3.10/dist-packages (from lightly) (1.10.9)\n",
            "Collecting aenum>=3.1.11 (from lightly)\n",
            "  Downloading aenum-3.1.15-py3-none-any.whl (137 kB)\n",
            "\u001b[2K     \u001b[90m━━━━━━━━━━━━━━━━━━━━━━━━━━━━━━━━━━━━━━\u001b[0m \u001b[32m137.6/137.6 kB\u001b[0m \u001b[31m17.8 MB/s\u001b[0m eta \u001b[36m0:00:00\u001b[0m\n",
            "\u001b[?25hRequirement already satisfied: torch in /usr/local/lib/python3.10/dist-packages (from lightly) (2.0.1+cu118)\n",
            "Requirement already satisfied: torchvision in /usr/local/lib/python3.10/dist-packages (from lightly) (0.15.2+cu118)\n",
            "Collecting pytorch-lightning>=1.0.4 (from lightly)\n",
            "  Downloading pytorch_lightning-2.0.4-py3-none-any.whl (721 kB)\n",
            "\u001b[2K     \u001b[90m━━━━━━━━━━━━━━━━━━━━━━━━━━━━━━━━━━━━━━\u001b[0m \u001b[32m721.2/721.2 kB\u001b[0m \u001b[31m55.4 MB/s\u001b[0m eta \u001b[36m0:00:00\u001b[0m\n",
            "\u001b[?25hCollecting omegaconf<2.4,>=2.2 (from hydra-core>=1.0.0->lightly)\n",
            "  Downloading omegaconf-2.3.0-py3-none-any.whl (79 kB)\n",
            "\u001b[2K     \u001b[90m━━━━━━━━━━━━━━━━━━━━━━━━━━━━━━━━━━━━━━━━\u001b[0m \u001b[32m79.5/79.5 kB\u001b[0m \u001b[31m9.9 MB/s\u001b[0m eta \u001b[36m0:00:00\u001b[0m\n",
            "\u001b[?25hCollecting antlr4-python3-runtime==4.9.* (from hydra-core>=1.0.0->lightly)\n",
            "  Downloading antlr4-python3-runtime-4.9.3.tar.gz (117 kB)\n",
            "\u001b[2K     \u001b[90m━━━━━━━━━━━━━━━━━━━━━━━━━━━━━━━━━━━━━━\u001b[0m \u001b[32m117.0/117.0 kB\u001b[0m \u001b[31m17.5 MB/s\u001b[0m eta \u001b[36m0:00:00\u001b[0m\n",
            "\u001b[?25h  Preparing metadata (setup.py) ... \u001b[?25l\u001b[?25hdone\n",
            "Requirement already satisfied: packaging in /usr/local/lib/python3.10/dist-packages (from hydra-core>=1.0.0->lightly) (23.1)\n",
            "Requirement already satisfied: Pillow in /usr/local/lib/python3.10/dist-packages (from lightly-utils~=0.0.0->lightly) (8.4.0)\n",
            "Requirement already satisfied: typing-extensions>=4.2.0 in /usr/local/lib/python3.10/dist-packages (from pydantic<2,>=1.10.5->lightly) (4.6.3)\n",
            "Requirement already satisfied: PyYAML>=5.4 in /usr/local/lib/python3.10/dist-packages (from pytorch-lightning>=1.0.4->lightly) (6.0)\n",
            "Requirement already satisfied: fsspec[http]>2021.06.0 in /usr/local/lib/python3.10/dist-packages (from pytorch-lightning>=1.0.4->lightly) (2023.6.0)\n",
            "Collecting torchmetrics>=0.7.0 (from pytorch-lightning>=1.0.4->lightly)\n",
            "  Downloading torchmetrics-1.0.0-py3-none-any.whl (728 kB)\n",
            "\u001b[2K     \u001b[90m━━━━━━━━━━━━━━━━━━━━━━━━━━━━━━━━━━━━━━\u001b[0m \u001b[32m728.8/728.8 kB\u001b[0m \u001b[31m59.7 MB/s\u001b[0m eta \u001b[36m0:00:00\u001b[0m\n",
            "\u001b[?25hCollecting lightning-utilities>=0.7.0 (from pytorch-lightning>=1.0.4->lightly)\n",
            "  Downloading lightning_utilities-0.9.0-py3-none-any.whl (23 kB)\n",
            "Requirement already satisfied: charset-normalizer~=2.0.0 in /usr/local/lib/python3.10/dist-packages (from requests>=2.23.0->lightly) (2.0.12)\n",
            "Requirement already satisfied: idna<4,>=2.5 in /usr/local/lib/python3.10/dist-packages (from requests>=2.23.0->lightly) (3.4)\n",
            "Requirement already satisfied: filelock in /usr/local/lib/python3.10/dist-packages (from torch->lightly) (3.12.2)\n",
            "Requirement already satisfied: sympy in /usr/local/lib/python3.10/dist-packages (from torch->lightly) (1.11.1)\n",
            "Requirement already satisfied: networkx in /usr/local/lib/python3.10/dist-packages (from torch->lightly) (3.1)\n",
            "Requirement already satisfied: jinja2 in /usr/local/lib/python3.10/dist-packages (from torch->lightly) (3.1.2)\n",
            "Requirement already satisfied: triton==2.0.0 in /usr/local/lib/python3.10/dist-packages (from torch->lightly) (2.0.0)\n",
            "Requirement already satisfied: cmake in /usr/local/lib/python3.10/dist-packages (from triton==2.0.0->torch->lightly) (3.25.2)\n",
            "Requirement already satisfied: lit in /usr/local/lib/python3.10/dist-packages (from triton==2.0.0->torch->lightly) (16.0.6)\n",
            "Requirement already satisfied: aiohttp!=4.0.0a0,!=4.0.0a1 in /usr/local/lib/python3.10/dist-packages (from fsspec[http]>2021.06.0->pytorch-lightning>=1.0.4->lightly) (3.8.4)\n",
            "Requirement already satisfied: MarkupSafe>=2.0 in /usr/local/lib/python3.10/dist-packages (from jinja2->torch->lightly) (2.1.3)\n",
            "Requirement already satisfied: mpmath>=0.19 in /usr/local/lib/python3.10/dist-packages (from sympy->torch->lightly) (1.3.0)\n",
            "Requirement already satisfied: attrs>=17.3.0 in /usr/local/lib/python3.10/dist-packages (from aiohttp!=4.0.0a0,!=4.0.0a1->fsspec[http]>2021.06.0->pytorch-lightning>=1.0.4->lightly) (23.1.0)\n",
            "Requirement already satisfied: multidict<7.0,>=4.5 in /usr/local/lib/python3.10/dist-packages (from aiohttp!=4.0.0a0,!=4.0.0a1->fsspec[http]>2021.06.0->pytorch-lightning>=1.0.4->lightly) (6.0.4)\n",
            "Requirement already satisfied: async-timeout<5.0,>=4.0.0a3 in /usr/local/lib/python3.10/dist-packages (from aiohttp!=4.0.0a0,!=4.0.0a1->fsspec[http]>2021.06.0->pytorch-lightning>=1.0.4->lightly) (4.0.2)\n",
            "Requirement already satisfied: yarl<2.0,>=1.0 in /usr/local/lib/python3.10/dist-packages (from aiohttp!=4.0.0a0,!=4.0.0a1->fsspec[http]>2021.06.0->pytorch-lightning>=1.0.4->lightly) (1.9.2)\n",
            "Requirement already satisfied: frozenlist>=1.1.1 in /usr/local/lib/python3.10/dist-packages (from aiohttp!=4.0.0a0,!=4.0.0a1->fsspec[http]>2021.06.0->pytorch-lightning>=1.0.4->lightly) (1.3.3)\n",
            "Requirement already satisfied: aiosignal>=1.1.2 in /usr/local/lib/python3.10/dist-packages (from aiohttp!=4.0.0a0,!=4.0.0a1->fsspec[http]>2021.06.0->pytorch-lightning>=1.0.4->lightly) (1.3.1)\n",
            "Building wheels for collected packages: antlr4-python3-runtime\n",
            "  Building wheel for antlr4-python3-runtime (setup.py) ... \u001b[?25l\u001b[?25hdone\n",
            "  Created wheel for antlr4-python3-runtime: filename=antlr4_python3_runtime-4.9.3-py3-none-any.whl size=144554 sha256=e81a8d93594748b95e6b4a191d27d83ab01182bc58f0396f32dd23453b3108ab\n",
            "  Stored in directory: /root/.cache/pip/wheels/12/93/dd/1f6a127edc45659556564c5730f6d4e300888f4bca2d4c5a88\n",
            "Successfully built antlr4-python3-runtime\n",
            "Installing collected packages: antlr4-python3-runtime, aenum, omegaconf, lightning-utilities, lightly-utils, hydra-core, torchmetrics, pytorch-lightning, lightly\n",
            "Successfully installed aenum-3.1.15 antlr4-python3-runtime-4.9.3 hydra-core-1.3.2 lightly-1.4.11 lightly-utils-0.0.2 lightning-utilities-0.9.0 omegaconf-2.3.0 pytorch-lightning-2.0.4 torchmetrics-1.0.0\n"
          ]
        },
        {
          "output_type": "display_data",
          "data": {
            "application/vnd.colab-display-data+json": {
              "pip_warning": {
                "packages": [
                  "pydevd_plugins"
                ]
              }
            }
          },
          "metadata": {}
        }
      ]
    },
    {
      "cell_type": "code",
      "source": [
        "#import\n",
        "\n",
        "import copy\n",
        "import time\n",
        "import os\n",
        "import torch\n",
        "import torchvision\n",
        "from torch import nn\n",
        "\n",
        "\n",
        "\n",
        "from matplotlib import pyplot as plt\n",
        "import numpy as np\n",
        "from google.colab import files\n",
        "\n",
        "\n",
        "from torchvision.datasets import STL10\n",
        "import torchvision.transforms as transforms\n",
        "from torchvision.transforms import ToTensor\n",
        "\n",
        "from lightly.loss import NegativeCosineSimilarity\n",
        "from lightly.models.modules import BYOLPredictionHead, BYOLProjectionHead\n",
        "from lightly.models.utils import deactivate_requires_grad, update_momentum\n",
        "from lightly.transforms.simclr_transform import SimCLRTransform\n",
        "from lightly.utils.scheduler import cosine_schedule"
      ],
      "metadata": {
        "id": "a6b-VZblxDZo"
      },
      "execution_count": 17,
      "outputs": []
    },
    {
      "cell_type": "code",
      "source": [
        "class BYOL(nn.Module):\n",
        "  def __init__(self, backbone):\n",
        "    super().__init__()\n",
        "    self.backbone = backbone # e.g., resnet - REPRESENTATION\n",
        "    self.projection_head = BYOLProjectionHead(512, 1024, 256)\n",
        "    self.prediction_head = BYOLPredictionHead(256, 1024, 256)\n",
        "    self.backbone_momentum = copy.deepcopy(self.backbone)\n",
        "    self.projection_head_momentum = copy.deepcopy(self.projection_head)\n",
        "    deactivate_requires_grad(self.backbone_momentum)\n",
        "    deactivate_requires_grad(self.projection_head_momentum)\n",
        "\n",
        "  def forward(self, x):\n",
        "    y = self.backbone(x).flatten(start_dim=1)\n",
        "    z = self.projection_head(y)\n",
        "    p = self.prediction_head(z)\n",
        "    return p\n",
        "  def forward_momentum(self, x):\n",
        "    y = self.backbone_momentum(x).flatten(start_dim=1)\n",
        "    z = self.projection_head_momentum(y)\n",
        "    z = z.detach()\n",
        "    return z"
      ],
      "metadata": {
        "id": "Urx6axxsxVSh"
      },
      "execution_count": 3,
      "outputs": []
    },
    {
      "cell_type": "code",
      "source": [
        "class BYOL_FC(nn.Module):\n",
        "  def __init__(self, representation_size, hidden_size, num_clases,num_init_w):\n",
        "        super(BYOL_FC, self).__init__()\n",
        "        self.linear1 = nn.Linear(representation_size, hidden_size)\n",
        "        self.relu = nn.ReLU(inplace=True)\n",
        "        self.linear2 = nn.Linear(hidden_size, num_clases)\n",
        "        #self.linear3 = nn.Linear(hidden_size, num_clases)\n",
        "        self.init_weights(num_init_w)\n",
        "\n",
        "  def forward(self, x):\n",
        "        out = self.linear1(x)\n",
        "        out = self.relu(out)\n",
        "        out = self.linear2(out)\n",
        "        # no softmax in the end when using crossentropy loss\n",
        "\n",
        "        return out\n",
        "\n",
        "  def init_weights(self, num_init_w):\n",
        "    for m in self.modules():\n",
        "      if isinstance(m, nn.Linear):\n",
        "        if (num_init_w == 0):\n",
        "          #nn.init.kaiming_normal_(m.weight, mode='fan_out', nonlinearity='relu')\n",
        "          nn.init.xavier_uniform_(m.weight)\n",
        "        else:\n",
        "          nn.init.normal_(m.weight, 0, 0.005)\n"
      ],
      "metadata": {
        "id": "bAnTWO5kxkNp"
      },
      "execution_count": 4,
      "outputs": []
    },
    {
      "cell_type": "code",
      "source": [
        "# if using the pre-trained beckbone: your input = True else False\n",
        "pre_trained = input()\n",
        "if pre_trained == \"True\":\n",
        "  path_to_weights = 'pre_trained_backbone_BYOL_checkpoint.pth'\n",
        "else:\n",
        "  path_to_weights = 'BYOL_checkpoint.pth'"
      ],
      "metadata": {
        "colab": {
          "base_uri": "https://localhost:8080/"
        },
        "id": "EZf0BRPLzL1T",
        "outputId": "01f2f06b-8b3d-4d1e-8c98-c275b6fee405"
      },
      "execution_count": 9,
      "outputs": [
        {
          "name": "stdout",
          "output_type": "stream",
          "text": [
            "False\n"
          ]
        }
      ]
    },
    {
      "cell_type": "code",
      "source": [
        "device = torch.device(\"cuda:0\" if torch.cuda.is_available() else \"cpu\")\n",
        "\n",
        "# initialization for BYOL\n",
        "resnet = torchvision.models.resnet18()\n",
        "backbone = nn.Sequential(*list(resnet.children())[:-1])\n",
        "model = BYOL(backbone)\n",
        "\n",
        "state = torch.load(path_to_weights)\n",
        "model.load_state_dict(state['net'])\n",
        "model.to(device)\n",
        "trained_BYOL_backbone = model.backbone\n",
        "\n",
        "# create an instance of the MLP\n",
        "learned_predictor_MLP = BYOL_FC(representation_size=512, hidden_size=128, num_clases=10, num_init_w=0).to(device)\n",
        "\n",
        "\n",
        "# Define the combined model - this is the classifier\n",
        "class CombinedModel(nn.Module):\n",
        "  def __init__(self, backbone, mlp):\n",
        "    super(CombinedModel, self).__init__()\n",
        "    self.backbone = backbone\n",
        "    self.mlp = mlp\n",
        "\n",
        "  def forward(self, x):\n",
        "    #\n",
        "    x = self.backbone(x).flatten(start_dim=1)\n",
        "    #\n",
        "    x = self.mlp(x)\n",
        "    return x\n",
        "\n",
        "combined_model = CombinedModel(trained_BYOL_backbone, learned_predictor_MLP)\n"
      ],
      "metadata": {
        "id": "LAajeqmVvusj"
      },
      "execution_count": 11,
      "outputs": []
    },
    {
      "cell_type": "code",
      "source": [
        "# time to train our combined model\n",
        "\n",
        "# hyper-parameters\n",
        "learning_rate = 1e-5\n",
        "num_epochs = 200\n",
        "\n",
        "# loss criterion\n",
        "criterion = nn.CrossEntropyLoss()\n",
        "\n",
        "# build our model and send it to the device\n",
        "optimizer = torch.optim.Adam(combined_model.parameters(), lr=learning_rate)\n"
      ],
      "metadata": {
        "id": "bJqpWnFNv02I"
      },
      "execution_count": 13,
      "outputs": []
    },
    {
      "cell_type": "code",
      "source": [
        "transform_train = transforms.Compose([\n",
        "    transforms.RandomResizedCrop(96),\n",
        "    transforms.RandomHorizontalFlip(p=0.5),\n",
        "    transforms.RandomGrayscale(p=0.2),\n",
        "    transforms.ToTensor(), # uint8 values in [0, 255] -> float tensor with vlaues [0, 1]\n",
        "])\n",
        "\n",
        "train_labeled_dataset = STL10(root=\"data\", split=\"train\", download=True, transform=transform_train)\n",
        "train_labeled_loader = torch.utils.data.DataLoader(\n",
        "    train_labeled_dataset,\n",
        "    batch_size=256,\n",
        "    shuffle=False,\n",
        ")"
      ],
      "metadata": {
        "colab": {
          "base_uri": "https://localhost:8080/"
        },
        "id": "hknT_DRSyYVz",
        "outputId": "2d3e1577-bca6-464a-cca9-e137982314ff"
      },
      "execution_count": 14,
      "outputs": [
        {
          "output_type": "stream",
          "name": "stdout",
          "text": [
            "Files already downloaded and verified\n"
          ]
        }
      ]
    },
    {
      "cell_type": "code",
      "source": [
        "# trining the classifier model\n",
        "avg_epoch_losses = []\n",
        "combined_model.train() # change the mode to training, activating layers like DropOut and BatchNorm, if there are any\n",
        "for epoch in range(num_epochs):\n",
        "\n",
        "  total_loss = 0\n",
        "  epoch_losses = []\n",
        "\n",
        "  for batch, labels in train_labeled_loader:\n",
        "    # send data to device\n",
        "    batch = batch.to(device)\n",
        "    labels = labels.to(device)\n",
        "    # forward pass\n",
        "    output = combined_model(batch) # same as model.forward(features)\n",
        "\n",
        "    # loss\n",
        "    loss = criterion(output, labels)\n",
        "    total_loss += loss.detach()\n",
        "    epoch_losses.append(loss.item())\n",
        "\n",
        "    # backward pass\n",
        "    optimizer.zero_grad() # clean the gradients from previous iteration\n",
        "    loss.backward() # autograd backward to calculate gradients\n",
        "    optimizer.step() # apply update to the weights\n",
        "  if epoch % 10 == 0:\n",
        "    avg_loss = total_loss / len(train_labeled_loader)\n",
        "    avg_epoch_losses.append(avg_loss)\n",
        "\n",
        "    log = \"Epoch: {} | Loss: {:.4f}\".format(epoch, avg_loss)\n",
        "    print(log)\n",
        "\n"
      ],
      "metadata": {
        "colab": {
          "base_uri": "https://localhost:8080/"
        },
        "id": "D8Kts15ev3WI",
        "outputId": "767d8d41-6e69-4e59-d27f-a08426d4a17f"
      },
      "execution_count": 15,
      "outputs": [
        {
          "output_type": "stream",
          "name": "stdout",
          "text": [
            "Epoch: 0 | Loss: 3.0347\n",
            "Epoch: 10 | Loss: 1.7741\n",
            "Epoch: 20 | Loss: 1.3323\n",
            "Epoch: 30 | Loss: 1.1259\n",
            "Epoch: 40 | Loss: 1.0129\n",
            "Epoch: 50 | Loss: 0.9224\n",
            "Epoch: 60 | Loss: 0.8855\n",
            "Epoch: 70 | Loss: 0.8296\n",
            "Epoch: 80 | Loss: 0.8084\n",
            "Epoch: 90 | Loss: 0.7806\n",
            "Epoch: 100 | Loss: 0.7607\n",
            "Epoch: 110 | Loss: 0.7405\n",
            "Epoch: 120 | Loss: 0.7298\n",
            "Epoch: 130 | Loss: 0.7035\n",
            "Epoch: 140 | Loss: 0.6948\n",
            "Epoch: 150 | Loss: 0.6781\n",
            "Epoch: 160 | Loss: 0.6799\n",
            "Epoch: 170 | Loss: 0.6652\n",
            "Epoch: 180 | Loss: 0.6584\n",
            "Epoch: 190 | Loss: 0.6354\n"
          ]
        }
      ]
    },
    {
      "cell_type": "code",
      "source": [
        "# print the training loss curve\n",
        "epoch_num = np.arange(0, 200, 10, dtype=int)\n",
        "plt.plot(epoch_num, torch.as_tensor(avg_epoch_losses).cpu(), label='Training loss')\n",
        "plt.ylabel('Loss function value')\n",
        "plt.xlabel('Epoch')\n",
        "plt.title('Training loss vs. Epoch number')\n",
        "plt.legend()\n",
        "#plt.savefig(\"fine = Training loss.png\")\n",
        "#files.download(\"fine = Training loss.png\")\n",
        "plt.show"
      ],
      "metadata": {
        "colab": {
          "base_uri": "https://localhost:8080/",
          "height": 489
        },
        "id": "vP1r3WH11WBv",
        "outputId": "11b29a88-fcfd-4329-f9eb-c2440780aded"
      },
      "execution_count": 18,
      "outputs": [
        {
          "output_type": "execute_result",
          "data": {
            "text/plain": [
              "<function matplotlib.pyplot.show(close=None, block=None)>"
            ]
          },
          "metadata": {},
          "execution_count": 18
        },
        {
          "output_type": "display_data",
          "data": {
            "text/plain": [
              "<Figure size 640x480 with 1 Axes>"
            ],
            "image/png": "[encoded data removed]"
          },
          "metadata": {}
        }
      ]
    },
    {
      "cell_type": "code",
      "source": [
        "test_labeled_dataset = STL10(root=\"data\", split=\"test\", download=True, transform=ToTensor())\n",
        "test_labeled_loader = torch.utils.data.DataLoader(\n",
        "    test_labeled_dataset,\n",
        "    batch_size=256,\n",
        "    shuffle=False,\n",
        ")\n"
      ],
      "metadata": {
        "colab": {
          "base_uri": "https://localhost:8080/"
        },
        "id": "0yrOeCNxS3P_",
        "outputId": "fa142e65-9d28-4bdf-9a6e-64b648e82cea"
      },
      "execution_count": 19,
      "outputs": [
        {
          "output_type": "stream",
          "name": "stdout",
          "text": [
            "Files already downloaded and verified\n"
          ]
        }
      ]
    },
    {
      "cell_type": "code",
      "source": [
        "# cheack the classification accuracy\n",
        "def eval_BYOL_FC(model, dataloader, device=torch.device('cuda:0')):\n",
        "  model.eval() # put in evaluation mode\n",
        "  model_output = []\n",
        "  labels = []\n",
        "  num_samples = 0\n",
        "  num_correct = 0\n",
        "  with torch.no_grad():\n",
        "    for data in dataloader:\n",
        "      images, label = data\n",
        "      images = images.to(device)\n",
        "      label = label.to(device)\n",
        "      output = model(images)\n",
        "      model_output.append(output)\n",
        "      labels.append(label.cpu())\n",
        "\n",
        "      # values, index\n",
        "      _, predictions = torch.max(output,1)\n",
        "      num_samples += label.shape[0]\n",
        "      num_correct += (predictions == label).sum().item()\n",
        "    print(num_samples,num_correct)\n",
        "    accuracy = 100.0 * (num_correct / num_samples)\n",
        "    print('test accuracy = {}'.format(accuracy))\n",
        "    model_output = torch.cat(model_output)\n",
        "    labels = torch.cat(labels)\n",
        "\n",
        "  return model_output.detach(), labels.detach()"
      ],
      "metadata": {
        "id": "60fHQVzaSxmV"
      },
      "execution_count": 20,
      "outputs": []
    },
    {
      "cell_type": "code",
      "source": [
        "model_output, labels = eval_BYOL_FC(combined_model, test_labeled_loader, device=device)"
      ],
      "metadata": {
        "colab": {
          "base_uri": "https://localhost:8080/"
        },
        "id": "Hw2gbTHwS_-2",
        "outputId": "069e5115-5aab-40a0-bb8f-e1b56e28b937"
      },
      "execution_count": 21,
      "outputs": [
        {
          "output_type": "stream",
          "name": "stdout",
          "text": [
            "8000 6153\n",
            "test accuracy = 76.9125\n"
          ]
        }
      ]
    }
  ]
}