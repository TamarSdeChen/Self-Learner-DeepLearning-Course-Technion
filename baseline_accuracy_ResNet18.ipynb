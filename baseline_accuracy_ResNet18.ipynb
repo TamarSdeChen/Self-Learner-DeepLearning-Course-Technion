{
  "cells": [
    {
      "cell_type": "markdown",
      "metadata": {
        "id": "view-in-github",
        "colab_type": "text"
      },
      "source": [
        "<a href=\"https://colab.research.google.com/github/TamarSdeChen/Self-Learner-DeepLearning-Course-Technion/blob/main/baseline_accuracy_ResNet18.ipynb\" target=\"_parent\"><img src=\"https://colab.research.google.com/assets/colab-badge.svg\" alt=\"Open In Colab\"/></a>"
      ]
    },
    {
      "cell_type": "code",
      "source": [
        "#import libareies\n",
        "import time\n",
        "import numpy as np\n",
        "\n",
        "import torch\n",
        "import torch.nn as nn\n",
        "\n",
        "import matplotlib.pyplot as plt\n",
        "\n",
        "from torchvision.datasets import STL10\n",
        "from torchvision import transforms, utils, models\n",
        "from torchvision.transforms import ToTensor\n"
      ],
      "metadata": {
        "id": "gw3sAe6-IiUp"
      },
      "execution_count": null,
      "outputs": []
    },
    {
      "cell_type": "code",
      "execution_count": null,
      "metadata": {
        "colab": {
          "base_uri": "https://localhost:8080/"
        },
        "id": "5PwmA9f_7Z3h",
        "outputId": "07d9befc-886a-4b4f-cee0-f1464c85c659"
      },
      "outputs": [
        {
          "output_type": "stream",
          "name": "stdout",
          "text": [
            "Files already downloaded and verified\n",
            "Files already downloaded and verified\n"
          ]
        }
      ],
      "source": [
        "#download the labeled train and test dataset\n",
        "transform_train = transforms.Compose([\n",
        "    transforms.RandomResizedCrop(96),\n",
        "    transforms.RandomHorizontalFlip(p=0.5),\n",
        "    transforms.RandomGrayscale(p=0.2),\n",
        "    transforms.ToTensor(), # uint8 values in [0, 255] -> float tensor with vlaues [0, 1]\n",
        "])\n",
        "\n",
        "TRAIN_DATASET = STL10(root=\"data\", split=\"train\", download=True, transform=transform_train)\n",
        "TEST_DATASET = STL10(root=\"data\", split=\"test\", download=True, transform=ToTensor())\n",
        "\n",
        "#create dataloader\n",
        "train_loader = torch.utils.data.DataLoader(TRAIN_DATASET, batch_size=128, shuffle=True, num_workers=2)\n",
        "tset_loader = torch.utils.data.DataLoader(TEST_DATASET, batch_size=128,  shuffle=False, num_workers=2)\n",
        "\n",
        "#define device\n",
        "device = torch.device(\"cuda:0\" if torch.cuda.is_available() else \"cpu\")"
      ]
    },
    {
      "cell_type": "code",
      "execution_count": null,
      "metadata": {
        "id": "IRe8OUx1LMZT"
      },
      "outputs": [],
      "source": [
        "# function to calcualte accuracy of the model\n",
        "def calculate_accuracy(model, dataloader, device):\n",
        "    model.eval() # put in evaluation mode,  turn of DropOut, BatchNorm uses learned statistics\n",
        "    total_correct = 0\n",
        "    total_images = 0\n",
        "    with torch.no_grad():\n",
        "        for data in dataloader:\n",
        "            images, labels = data\n",
        "            images = images.to(device)\n",
        "            labels = labels.to(device)\n",
        "            outputs = model(images)\n",
        "            _, predicted = torch.max(outputs.data, 1)\n",
        "            total_images += labels.size(0)\n",
        "            total_correct += (predicted == labels).sum().item()\n",
        "\n",
        "    model_accuracy = total_correct / total_images * 100\n",
        "    return model_accuracy"
      ]
    },
    {
      "cell_type": "code",
      "execution_count": null,
      "metadata": {
        "id": "zlbORBHWEJ3_"
      },
      "outputs": [],
      "source": [
        "model =  models.resnet18().to(device)"
      ]
    },
    {
      "cell_type": "code",
      "execution_count": null,
      "metadata": {
        "id": "UYD0H889J_rL"
      },
      "outputs": [],
      "source": [
        "#create a new class for the FC layers to transform the output vector of the ResNet18 to a vector of 10\n",
        "class fc_model(nn.Module):\n",
        "    def __init__(self):\n",
        "        super(fc_model, self).__init__()\n",
        "        self.fc_1 = nn.Linear(512, 128)\n",
        "        self.fc_2 = nn.Linear(128,10)\n",
        "        self.ReLU = nn.ReLU()\n",
        "        self.init_weights()\n",
        "\n",
        "    def init_weights(self):\n",
        "      for m in self.modules():\n",
        "        if isinstance(m, nn.Linear):\n",
        "          torch.nn.init.xavier_normal_(m.weight, gain=1.0)\n",
        "          if m.bias is not None:\n",
        "            torch.nn.init.constant_(m.bias, 0)\n",
        "\n",
        "    def forward(self,x):\n",
        "        x = self.ReLU(self.fc_1(x))\n",
        "        x = self.fc_2(x)\n",
        "        return x"
      ]
    },
    {
      "cell_type": "code",
      "execution_count": null,
      "metadata": {
        "id": "yj-vZ_f4N1XT"
      },
      "outputs": [],
      "source": [
        "#create a new instance of the FC model and implement it to the ResNet18\n",
        "model_ = fc_model().to(device)\n",
        "model.fc = model_"
      ]
    },
    {
      "cell_type": "code",
      "execution_count": null,
      "metadata": {
        "id": "HkHELT8SOKeT"
      },
      "outputs": [],
      "source": [
        "#train all the parameters of the model\n",
        "for param in model.parameters():\n",
        "        param.requires_grad = True\n",
        "for param in model.fc.parameters():\n",
        "        param.requires_grad = True"
      ]
    },
    {
      "cell_type": "code",
      "execution_count": null,
      "metadata": {
        "id": "gMPML2ghOQ__"
      },
      "outputs": [],
      "source": [
        "# hyper parameter\n",
        "batch_size = 256\n",
        "learning_rate = 1e-3\n",
        "epochs = 200\n",
        "\n",
        "# loss criterion\n",
        "criterion = nn.CrossEntropyLoss()\n",
        "optimizer = torch.optim.Adam(model.parameters(), lr=learning_rate)\n",
        "#scheduler = torch.optim.lr_scheduler.MultiStepLR(optimizer, milestones=[50, 100], gamma=0.5)"
      ]
    },
    {
      "cell_type": "code",
      "execution_count": null,
      "metadata": {
        "colab": {
          "base_uri": "https://localhost:8080/"
        },
        "id": "7H-yXlNQOclv",
        "outputId": "6b070d35-d602-47dc-aa10-1085d3308cc0"
      },
      "outputs": [
        {
          "output_type": "stream",
          "name": "stdout",
          "text": [
            "Epoch: 1 | Loss: 2.0340 \n",
            "Epoch: 2 | Loss: 1.8055 \n",
            "Epoch: 3 | Loss: 1.7336 \n",
            "Epoch: 4 | Loss: 1.6540 \n",
            "Epoch: 5 | Loss: 1.6518 \n",
            "Epoch: 6 | Loss: 1.5632 \n",
            "Epoch: 7 | Loss: 1.5829 \n",
            "Epoch: 8 | Loss: 1.5606 \n",
            "Epoch: 9 | Loss: 1.4984 \n",
            "Epoch: 10 | Loss: 1.4178 \n",
            "Epoch: 11 | Loss: 1.3987 \n",
            "Epoch: 12 | Loss: 1.4151 \n",
            "Epoch: 13 | Loss: 1.4095 \n",
            "Epoch: 14 | Loss: 1.3369 \n",
            "Epoch: 15 | Loss: 1.3458 \n",
            "Epoch: 16 | Loss: 1.2987 \n",
            "Epoch: 17 | Loss: 1.3329 \n",
            "Epoch: 18 | Loss: 1.2454 \n",
            "Epoch: 19 | Loss: 1.2363 \n",
            "Epoch: 20 | Loss: 1.2720 \n",
            "Epoch: 21 | Loss: 1.2327 \n",
            "Epoch: 22 | Loss: 1.1765 \n",
            "Epoch: 23 | Loss: 1.2171 \n",
            "Epoch: 24 | Loss: 1.2646 \n",
            "Epoch: 25 | Loss: 1.2111 \n",
            "Epoch: 26 | Loss: 1.1948 \n",
            "Epoch: 27 | Loss: 1.1547 \n",
            "Epoch: 28 | Loss: 1.1230 \n",
            "Epoch: 29 | Loss: 1.1090 \n",
            "Epoch: 30 | Loss: 1.1139 \n",
            "Epoch: 31 | Loss: 1.0875 \n",
            "Epoch: 32 | Loss: 1.0536 \n",
            "Epoch: 33 | Loss: 1.0700 \n",
            "Epoch: 34 | Loss: 1.0784 \n",
            "Epoch: 35 | Loss: 1.0324 \n",
            "Epoch: 36 | Loss: 1.0784 \n",
            "Epoch: 37 | Loss: 1.0513 \n",
            "Epoch: 38 | Loss: 1.0011 \n",
            "Epoch: 39 | Loss: 1.0133 \n",
            "Epoch: 40 | Loss: 1.0179 \n",
            "Epoch: 41 | Loss: 1.0072 \n",
            "Epoch: 42 | Loss: 1.0760 \n",
            "Epoch: 43 | Loss: 1.0683 \n",
            "Epoch: 44 | Loss: 0.9812 \n",
            "Epoch: 45 | Loss: 0.9452 \n",
            "Epoch: 46 | Loss: 0.9731 \n",
            "Epoch: 47 | Loss: 0.9626 \n",
            "Epoch: 48 | Loss: 0.9656 \n",
            "Epoch: 49 | Loss: 0.9804 \n",
            "Epoch: 50 | Loss: 0.9473 \n",
            "Epoch: 51 | Loss: 0.9221 \n",
            "Epoch: 52 | Loss: 0.9881 \n",
            "Epoch: 53 | Loss: 0.8782 \n",
            "Epoch: 54 | Loss: 0.8814 \n",
            "Epoch: 55 | Loss: 0.8964 \n",
            "Epoch: 56 | Loss: 0.9058 \n",
            "Epoch: 57 | Loss: 0.9402 \n",
            "Epoch: 58 | Loss: 0.8476 \n",
            "Epoch: 59 | Loss: 0.8226 \n",
            "Epoch: 60 | Loss: 0.8264 \n",
            "Epoch: 61 | Loss: 0.8766 \n",
            "Epoch: 62 | Loss: 0.8738 \n",
            "Epoch: 63 | Loss: 0.8041 \n",
            "Epoch: 64 | Loss: 0.8001 \n",
            "Epoch: 65 | Loss: 0.8197 \n",
            "Epoch: 66 | Loss: 0.7827 \n",
            "Epoch: 67 | Loss: 0.8215 \n",
            "Epoch: 68 | Loss: 0.8370 \n",
            "Epoch: 69 | Loss: 0.8188 \n",
            "Epoch: 70 | Loss: 0.7924 \n",
            "Epoch: 71 | Loss: 0.7989 \n",
            "Epoch: 72 | Loss: 0.8574 \n",
            "Epoch: 73 | Loss: 0.7846 \n",
            "Epoch: 74 | Loss: 0.7463 \n",
            "Epoch: 75 | Loss: 0.7245 \n",
            "Epoch: 76 | Loss: 0.7891 \n",
            "Epoch: 77 | Loss: 0.7279 \n",
            "Epoch: 78 | Loss: 0.7513 \n",
            "Epoch: 79 | Loss: 0.7866 \n",
            "Epoch: 80 | Loss: 0.7563 \n",
            "Epoch: 81 | Loss: 0.7242 \n",
            "Epoch: 82 | Loss: 0.7346 \n",
            "Epoch: 83 | Loss: 0.7692 \n",
            "Epoch: 84 | Loss: 0.7632 \n",
            "Epoch: 85 | Loss: 0.7510 \n",
            "Epoch: 86 | Loss: 0.7328 \n",
            "Epoch: 87 | Loss: 0.7161 \n",
            "Epoch: 88 | Loss: 0.7534 \n",
            "Epoch: 89 | Loss: 0.7124 \n",
            "Epoch: 90 | Loss: 0.6579 \n",
            "Epoch: 91 | Loss: 0.7064 \n",
            "Epoch: 92 | Loss: 0.6992 \n",
            "Epoch: 93 | Loss: 0.7170 \n",
            "Epoch: 94 | Loss: 0.6691 \n",
            "Epoch: 95 | Loss: 0.6977 \n",
            "Epoch: 96 | Loss: 0.6402 \n",
            "Epoch: 97 | Loss: 0.6404 \n",
            "Epoch: 98 | Loss: 0.6681 \n",
            "Epoch: 99 | Loss: 0.6535 \n",
            "Epoch: 100 | Loss: 0.6254 \n",
            "Epoch: 101 | Loss: 0.6160 \n",
            "Epoch: 102 | Loss: 0.5961 \n",
            "Epoch: 103 | Loss: 0.6616 \n",
            "Epoch: 104 | Loss: 0.6856 \n",
            "Epoch: 105 | Loss: 0.6800 \n",
            "Epoch: 106 | Loss: 0.6475 \n",
            "Epoch: 107 | Loss: 0.6346 \n",
            "Epoch: 108 | Loss: 0.6390 \n",
            "Epoch: 109 | Loss: 0.6223 \n",
            "Epoch: 110 | Loss: 0.6113 \n",
            "Epoch: 111 | Loss: 0.6402 \n",
            "Epoch: 112 | Loss: 0.5823 \n",
            "Epoch: 113 | Loss: 0.5788 \n",
            "Epoch: 114 | Loss: 0.5805 \n",
            "Epoch: 115 | Loss: 0.6518 \n",
            "Epoch: 116 | Loss: 0.6328 \n",
            "Epoch: 117 | Loss: 0.5780 \n",
            "Epoch: 118 | Loss: 0.5678 \n",
            "Epoch: 119 | Loss: 0.5698 \n",
            "Epoch: 120 | Loss: 0.6118 \n",
            "Epoch: 121 | Loss: 0.5289 \n",
            "Epoch: 122 | Loss: 0.5389 \n",
            "Epoch: 123 | Loss: 0.5324 \n",
            "Epoch: 124 | Loss: 0.5750 \n",
            "Epoch: 125 | Loss: 0.5469 \n",
            "Epoch: 126 | Loss: 0.5413 \n",
            "Epoch: 127 | Loss: 0.5335 \n",
            "Epoch: 128 | Loss: 0.5227 \n",
            "Epoch: 129 | Loss: 0.5039 \n",
            "Epoch: 130 | Loss: 0.4750 \n",
            "Epoch: 131 | Loss: 0.5040 \n",
            "Epoch: 132 | Loss: 0.5626 \n",
            "Epoch: 133 | Loss: 0.5047 \n",
            "Epoch: 134 | Loss: 0.5165 \n",
            "Epoch: 135 | Loss: 0.6483 \n",
            "Epoch: 136 | Loss: 0.5745 \n",
            "Epoch: 137 | Loss: 0.5327 \n",
            "Epoch: 138 | Loss: 0.5171 \n",
            "Epoch: 139 | Loss: 0.4687 \n",
            "Epoch: 140 | Loss: 0.4802 \n",
            "Epoch: 141 | Loss: 0.5227 \n",
            "Epoch: 142 | Loss: 0.6374 \n",
            "Epoch: 143 | Loss: 0.6088 \n",
            "Epoch: 144 | Loss: 0.5141 \n",
            "Epoch: 145 | Loss: 0.5043 \n",
            "Epoch: 146 | Loss: 0.5216 \n",
            "Epoch: 147 | Loss: 0.5359 \n",
            "Epoch: 148 | Loss: 0.5024 \n",
            "Epoch: 149 | Loss: 0.4923 \n",
            "Epoch: 150 | Loss: 0.4960 \n",
            "Epoch: 151 | Loss: 0.5059 \n",
            "Epoch: 152 | Loss: 0.5357 \n",
            "Epoch: 153 | Loss: 0.4789 \n",
            "Epoch: 154 | Loss: 0.4456 \n",
            "Epoch: 155 | Loss: 0.4560 \n",
            "Epoch: 156 | Loss: 0.4363 \n",
            "Epoch: 157 | Loss: 0.4681 \n",
            "Epoch: 158 | Loss: 0.5160 \n",
            "Epoch: 159 | Loss: 0.4501 \n",
            "Epoch: 160 | Loss: 0.4981 \n",
            "Epoch: 161 | Loss: 0.4482 \n",
            "Epoch: 162 | Loss: 0.4687 \n",
            "Epoch: 163 | Loss: 0.4726 \n",
            "Epoch: 164 | Loss: 0.4829 \n",
            "Epoch: 165 | Loss: 0.5138 \n",
            "Epoch: 166 | Loss: 0.5147 \n",
            "Epoch: 167 | Loss: 0.4621 \n",
            "Epoch: 168 | Loss: 0.3962 \n",
            "Epoch: 169 | Loss: 0.4407 \n",
            "Epoch: 170 | Loss: 0.4615 \n",
            "Epoch: 171 | Loss: 0.4379 \n",
            "Epoch: 172 | Loss: 0.5055 \n",
            "Epoch: 173 | Loss: 0.5877 \n",
            "Epoch: 174 | Loss: 0.4627 \n",
            "Epoch: 175 | Loss: 0.4552 \n",
            "Epoch: 176 | Loss: 0.5820 \n",
            "Epoch: 177 | Loss: 0.4821 \n",
            "Epoch: 178 | Loss: 0.4639 \n",
            "Epoch: 179 | Loss: 0.4264 \n",
            "Epoch: 180 | Loss: 0.4290 \n",
            "Epoch: 181 | Loss: 0.5244 \n",
            "Epoch: 182 | Loss: 0.4583 \n",
            "Epoch: 183 | Loss: 0.4538 \n",
            "Epoch: 184 | Loss: 0.4212 \n",
            "Epoch: 185 | Loss: 0.3984 \n",
            "Epoch: 186 | Loss: 0.3835 \n",
            "Epoch: 187 | Loss: 0.3982 \n",
            "Epoch: 188 | Loss: 0.4607 \n",
            "Epoch: 189 | Loss: 0.4103 \n",
            "Epoch: 190 | Loss: 0.5344 \n",
            "Epoch: 191 | Loss: 0.4465 \n",
            "Epoch: 192 | Loss: 0.4592 \n",
            "Epoch: 193 | Loss: 0.4371 \n",
            "Epoch: 194 | Loss: 0.4062 \n",
            "Epoch: 195 | Loss: 0.4314 \n",
            "Epoch: 196 | Loss: 0.4202 \n",
            "Epoch: 197 | Loss: 0.4563 \n",
            "Epoch: 198 | Loss: 0.4663 \n",
            "Epoch: 199 | Loss: 0.4350 \n",
            "Epoch: 200 | Loss: 0.4662 \n",
            "==> Finished Training ...\n"
          ]
        }
      ],
      "source": [
        "# training loop\n",
        "epoch_losses = []\n",
        "acc_train_list = []\n",
        "avg_loss_list = []\n",
        "for epoch in range(1, epochs + 1):\n",
        "    model.train()  # put in training mode, turn on DropOut, BatchNorm uses batch's statistics\n",
        "    running_loss = 0.0\n",
        "    epoch_time = time.time()\n",
        "    for i, data in enumerate(train_loader, 0):\n",
        "        # get the inputs\n",
        "        inputs, labels = data\n",
        "        # send them to device\n",
        "        inputs = inputs.to(device)\n",
        "        labels = labels.to(device)\n",
        "\n",
        "        # forward + backward + optimize\n",
        "        outputs = model(inputs)  # forward pass\n",
        "        loss = criterion(outputs, labels.to(torch.int64))  # calculate the loss\n",
        "\n",
        "        # always the same 3 steps\n",
        "        optimizer.zero_grad()  # zero the parameter gradients\n",
        "        loss.backward()  # backpropagation\n",
        "        optimizer.step()  # update parameters\n",
        "\n",
        "        # print statistics\n",
        "        running_loss += loss.data.item()\n",
        "\n",
        "    #scheduler.step()\n",
        "    # Normalizing the loss by the total number of train batches\n",
        "    avg_loss = running_loss / len(train_loader)\n",
        "    avg_loss_list.append(avg_loss)\n",
        "\n",
        "    log = \"Epoch: {} | Loss: {:.4f} \".format(epoch, avg_loss)\n",
        "    print(log)\n",
        "print('==> Finished Training ...')"
      ]
    },
    {
      "cell_type": "code",
      "execution_count": null,
      "metadata": {
        "id": "MonLRinGUwU4",
        "colab": {
          "base_uri": "https://localhost:8080/"
        },
        "outputId": "0334386d-eb7f-4367-91e9-93c020392b3a"
      },
      "outputs": [
        {
          "output_type": "stream",
          "name": "stdout",
          "text": [
            "final test accuracy: 73.5375\n"
          ]
        }
      ],
      "source": [
        "test_accuracy = calculate_accuracy(model, tset_loader, device)\n",
        "print(f\"final test accuracy: {test_accuracy}\")"
      ]
    },
    {
      "cell_type": "code",
      "source": [
        "epoch_num = np.arange(0, 200, 1, dtype=int)\n",
        "plt.plot(epoch_num, torch.as_tensor(avg_loss_list).cpu(), label='Training loss')\n",
        "plt.ylabel('Loss function value')\n",
        "plt.xlabel('Epoch')\n",
        "plt.title('Training loss vs. Epoch number')\n",
        "plt.legend()\n",
        "#save the figure\n",
        "plt.show"
      ],
      "metadata": {
        "id": "Cx-sebiDxQdA",
        "colab": {
          "base_uri": "https://localhost:8080/",
          "height": 489
        },
        "outputId": "30d27f0e-e2b3-480a-c63a-a279ccb1e937"
      },
      "execution_count": null,
      "outputs": [
        {
          "output_type": "execute_result",
          "data": {
            "text/plain": [
              "<function matplotlib.pyplot.show(close=None, block=None)>"
            ]
          },
          "metadata": {},
          "execution_count": 35
        },
        {
          "output_type": "display_data",
          "data": {
            "text/plain": [
              "<Figure size 640x480 with 1 Axes>"
            ],
            "image/png": "[encoded data removed]"
          },
          "metadata": {}
        }
      ]
    },
    {
      "cell_type": "code",
      "source": [
        "print('==> Saving model ...')\n",
        "state = {\n",
        "'net': model.state_dict(),\n",
        "}\n",
        "\n",
        "torch.save(state, 'baseline_resnet18.pth')"
      ],
      "metadata": {
        "id": "yRWg9I352B8n",
        "colab": {
          "base_uri": "https://localhost:8080/"
        },
        "outputId": "aaa067c1-90db-4d45-cf68-0c7ce3cc0c1c"
      },
      "execution_count": null,
      "outputs": [
        {
          "output_type": "stream",
          "name": "stdout",
          "text": [
            "==> Saving model ...\n"
          ]
        }
      ]
    }
  ],
  "metadata": {
    "accelerator": "GPU",
    "colab": {
      "provenance": [],
      "include_colab_link": true
    },
    "kernelspec": {
      "display_name": "Python 3",
      "name": "python3"
    },
    "language_info": {
      "name": "python"
    }
  },
  "nbformat": 4,
  "nbformat_minor": 0
}